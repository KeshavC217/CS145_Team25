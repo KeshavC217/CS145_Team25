{
 "metadata": {
  "language_info": {
   "codemirror_mode": {
    "name": "ipython",
    "version": 3
   },
   "file_extension": ".py",
   "mimetype": "text/x-python",
   "name": "python",
   "nbconvert_exporter": "python",
   "pygments_lexer": "ipython3",
   "version": "3.6.8-final"
  },
  "orig_nbformat": 2,
  "kernelspec": {
   "name": "python3",
   "display_name": "Python 3"
  }
 },
 "nbformat": 4,
 "nbformat_minor": 2,
 "cells": [
  {
   "cell_type": "code",
   "execution_count": 1,
   "metadata": {},
   "outputs": [],
   "source": [
    "import numpy as np\n",
    "import sklearn \n",
    "import pandas as pd\n",
    "import matplotlib.pyplot as plt\n",
    "import scipy\n",
    "from scipy.integrate import odeint\n",
    "import math\n",
    "\n",
    "# from utility_code.utility import utils\n",
    "\n",
    "#import csvs\n",
    "train = pd.read_csv(\"../../data/train.csv\")\n",
    "test = pd.read_csv(\"../../data/test.csv\")\n",
    "graph = pd.read_csv(\"../../data/graph.csv\")\n",
    "\n",
    "statesdata = {}\n",
    "states = pd.Series.unique(train['Province_State'])\n",
    "num_states = len(states)\n",
    "for s in states:\n",
    "    statesdata[s] = train.loc[train['Province_State'] == s ,:]"
   ]
  },
  {
   "cell_type": "code",
   "execution_count": 4,
   "metadata": {},
   "outputs": [
    {
     "output_type": "error",
     "ename": "ModuleNotFoundError",
     "evalue": "No module named 'statsmodels'",
     "traceback": [
      "\u001b[0;31m---------------------------------------------------------------------------\u001b[0m",
      "\u001b[0;31mModuleNotFoundError\u001b[0m                       Traceback (most recent call last)",
      "\u001b[0;32m<ipython-input-4-54a1128887b6>\u001b[0m in \u001b[0;36m<module>\u001b[0;34m\u001b[0m\n\u001b[1;32m     21\u001b[0m     \u001b[0;32mreturn\u001b[0m \u001b[0myhat\u001b[0m \u001b[0;34m+\u001b[0m \u001b[0mhistory\u001b[0m\u001b[0;34m[\u001b[0m\u001b[0;34m-\u001b[0m\u001b[0;36m1\u001b[0m\u001b[0;34m]\u001b[0m\u001b[0;34m\u001b[0m\u001b[0;34m\u001b[0m\u001b[0m\n\u001b[1;32m     22\u001b[0m \u001b[0;34m\u001b[0m\u001b[0m\n\u001b[0;32m---> 23\u001b[0;31m \u001b[0;32mfrom\u001b[0m \u001b[0mstatsmodels\u001b[0m\u001b[0;34m.\u001b[0m\u001b[0mtsa\u001b[0m\u001b[0;34m.\u001b[0m\u001b[0marima\u001b[0m\u001b[0;34m.\u001b[0m\u001b[0mmodel\u001b[0m \u001b[0;32mimport\u001b[0m \u001b[0mARIMA\u001b[0m\u001b[0;34m\u001b[0m\u001b[0;34m\u001b[0m\u001b[0m\n\u001b[0m\u001b[1;32m     24\u001b[0m \u001b[0;34m\u001b[0m\u001b[0m\n\u001b[1;32m     25\u001b[0m \u001b[0mproj\u001b[0m \u001b[0;34m=\u001b[0m \u001b[0;34m{\u001b[0m\u001b[0;34m}\u001b[0m\u001b[0;34m\u001b[0m\u001b[0;34m\u001b[0m\u001b[0m\n",
      "\u001b[0;31mModuleNotFoundError\u001b[0m: No module named 'statsmodels'"
     ]
    }
   ],
   "source": [
    "#p,d,q = 5,2,3\n",
    "days = 26\n",
    "\n",
    "def predictARIMA(X, p, d, q, days):\n",
    "    model = ARIMA(X, order=(p,d,q))\n",
    "    model_fit = model.fit()\n",
    "    start = len(X)\n",
    "    forecast = model_fit.predict(start = start, end = start + days)\n",
    "    return(forecast)\n",
    "\n",
    "def difference(dataset, interval = 1):\n",
    "    diff = list()\n",
    "    for i in range(interval, len(dataset)):\n",
    "        value = dataset[i]-dataset[i-interval]\n",
    "        diff.append(value)\n",
    "    return np.array(diff)\n",
    "\n",
    "# invert differenced value\n",
    "def inverse_difference(history, yhat, interval=1):\n",
    "    #yhat = np.exp(yhat)\n",
    "    return yhat + history[-1]\n",
    "\n",
    "from statsmodels.tsa.arima.model import ARIMA\n",
    "\n",
    "proj = {}\n",
    "for s in states:\n",
    "    a = statesdata[s]\n",
    "    a = a.reset_index()\n",
    "    confirmed = a['Confirmed']\n",
    "    deaths = a['Deaths']\n",
    "    \n",
    "    X = confirmed.values\n",
    "    \n",
    "    forecastC = predictARIMA(X, 2,2,1, days)\n",
    "    # BEST PARAMS SO FAR ARE 2,2,1\n",
    "    \n",
    "    Y= deaths.values\n",
    "\n",
    "\n",
    "    forecastD = predictARIMA(Y, 4,2,3, days)\n",
    "    # BEST PARAMS SO FAR ARE 4,2,3\n",
    "\n",
    "    df = {'Confirmed': forecastC, 'Deaths': forecastD}\n",
    "    \n",
    "    proj[s] = pd.DataFrame(df)"
   ]
  },
  {
   "cell_type": "code",
   "execution_count": null,
   "metadata": {},
   "outputs": [],
   "source": []
  }
 ]
}
{
 "cells": [
  {
   "cell_type": "code",
   "execution_count": 3,
   "metadata": {},
   "outputs": [],
   "source": [
    "import numpy as np\n",
    "import sklearn \n",
    "import pandas as pd\n",
    "import matplotlib.pyplot as plt\n",
    "import scipy\n",
    "from scipy.integrate import odeint\n",
    "import math\n",
    "from statsmodels.tsa.arima.model import ARIMA\n",
    "from statsmodels.tsa.statespace.sarimax import SARIMAX\n",
    "import itertools\n",
    "\n",
    "\n",
    "#import csvs\n",
    "train = pd.read_csv(\"../../data/train.csv\")\n",
    "test = pd.read_csv(\"../../data/test.csv\")\n",
    "graph = pd.read_csv(\"../../data/graph.csv\")\n",
    "\n",
    "statesdata = {}\n",
    "states = pd.Series.unique(train['Province_State'])\n",
    "num_states = len(states)\n",
    "for s in states:\n",
    "    statesdata[s] = train.loc[train['Province_State'] == s ,:]"
   ]
  },
  {
   "cell_type": "code",
   "execution_count": 4,
   "metadata": {},
   "outputs": [
    {
     "name": "stdout",
     "output_type": "stream",
     "text": [
      "(2, 0, 3) (3, 0, 0)\n",
      "(5, 2, 4) (2, 2, 3)\n",
      "(2, 5, 3) (3, 0, 3)\n",
      "(1, 4, 4) (2, 2, 4)\n",
      "(5, 5, 2) (3, 0, 0)\n",
      "(4, 2, 2) (4, 2, 5)\n",
      "(2, 1, 4) (5, 3, 5)\n",
      "(2, 0, 4) (0, 2, 1)\n",
      "(0, 4, 5) (5, 2, 4)\n",
      "(5, 3, 5) (4, 2, 5)\n"
     ]
    }
   ],
   "source": [
    "\n",
    "days = 26\n",
    "\n",
    "import warnings\n",
    "from statsmodels.tools.sm_exceptions import ConvergenceWarning\n",
    "warnings.simplefilter('ignore', ConvergenceWarning)\n",
    "\n",
    "def predictARIMA(X, p, d, q, days, sarimax=False):\n",
    "    start = len(X)\n",
    "    if sarimax:\n",
    "        # model = SARIMAX(X, order=(p,d,q), measurement_error=True).fit(disp=False)\n",
    "        model = SARIMAX(X,order=(1, 1, 1),\n",
    "                                seasonal_order=(1, 1, 1, 12),\n",
    "                                enforce_stationarity=False,\n",
    "                                enforce_invertibility=False).fit(disp=False)\n",
    "        forecast = model.forecast(days)\n",
    "    else:\n",
    "        model = ARIMA(X, order=(p,d,q)).fit()\n",
    "        forecast = model_fit.predict(start = start, end = start + days)\n",
    "    return(forecast)\n",
    "\n",
    "def bestARIMA(X):\n",
    "    p=d=q=range(0,6)\n",
    "    a=99999\n",
    "    pdq=list(itertools.product(p,d,q))\n",
    "\n",
    "    for var in pdq:\n",
    "        try:\n",
    "            model = ARIMA(X, order=var)\n",
    "            result = model.fit()\n",
    "\n",
    "            if (result.aic<=a) :\n",
    "                a=result.aic\n",
    "                param=var\n",
    "        except:\n",
    "            continue\n",
    "    \n",
    "    model = ARIMA(X, order=param).fit()\n",
    "    forecast = model.predict(start = len(X), end = len(X)+26)\n",
    "    return forecast, param\n",
    "\n",
    "    \n",
    "proj = {}\n",
    "for s in states:\n",
    "    a = statesdata[s]\n",
    "    a = a.reset_index()\n",
    "    confirmed = a['Confirmed']\n",
    "    deaths = a['Deaths']\n",
    "    \n",
    "    X, Y = confirmed.values, deaths.values\n",
    "    \n",
    "    forecastC, param_C = bestARIMA(X)\n",
    "    forecastD, param_D = bestARIMA(Y)\n",
    "    print(param_C, param_D)\n",
    "    # forecastC = predictARIMA(X, 3,2,1, days) # BEST PARAMS SO FAR ARE 3,2,1\n",
    "    # forecastD = predictARIMA(Y, 4,2,3, days) # BEST PARAMS SO FAR ARE 4,2,3\n",
    "\n",
    "    df = {'Confirmed': forecastC, 'Deaths': forecastD}\n",
    "    \n",
    "    proj[s] = pd.DataFrame(df)"
   ]
  },
  {
   "cell_type": "code",
   "execution_count": 1,
   "metadata": {},
   "outputs": [
    {
     "ename": "NameError",
     "evalue": "name 'test' is not defined",
     "output_type": "error",
     "traceback": [
      "\u001b[0;31m---------------------------------------------------------------------------\u001b[0m",
      "\u001b[0;31mNameError\u001b[0m                                 Traceback (most recent call last)",
      "\u001b[0;32m<ipython-input-1-0a3de024911f>\u001b[0m in \u001b[0;36m<module>\u001b[0;34m\u001b[0m\n\u001b[0;32m----> 1\u001b[0;31m \u001b[0morder\u001b[0m \u001b[0;34m=\u001b[0m \u001b[0mtest\u001b[0m\u001b[0;34m.\u001b[0m\u001b[0mloc\u001b[0m\u001b[0;34m[\u001b[0m\u001b[0;36m0\u001b[0m\u001b[0;34m:\u001b[0m\u001b[0;36m49\u001b[0m\u001b[0;34m,\u001b[0m\u001b[0;34m'Province_State'\u001b[0m\u001b[0;34m]\u001b[0m\u001b[0;34m\u001b[0m\u001b[0;34m\u001b[0m\u001b[0m\n\u001b[0m\u001b[1;32m      2\u001b[0m \u001b[0;34m\u001b[0m\u001b[0m\n\u001b[1;32m      3\u001b[0m \u001b[0;31m# format submission\u001b[0m\u001b[0;34m\u001b[0m\u001b[0;34m\u001b[0m\u001b[0;34m\u001b[0m\u001b[0m\n\u001b[1;32m      4\u001b[0m \u001b[0mconf\u001b[0m \u001b[0;34m=\u001b[0m \u001b[0;34m[\u001b[0m\u001b[0;34m]\u001b[0m\u001b[0;34m\u001b[0m\u001b[0;34m\u001b[0m\u001b[0m\n\u001b[1;32m      5\u001b[0m \u001b[0mdead\u001b[0m \u001b[0;34m=\u001b[0m \u001b[0;34m[\u001b[0m\u001b[0;34m]\u001b[0m\u001b[0;34m\u001b[0m\u001b[0;34m\u001b[0m\u001b[0m\n",
      "\u001b[0;31mNameError\u001b[0m: name 'test' is not defined"
     ]
    }
   ],
   "source": [
    "order = test.loc[0:49,'Province_State']\n",
    "\n",
    "# format submission\n",
    "conf = []\n",
    "dead = []\n",
    "fid = 0\n",
    "for i in range(days):\n",
    "    for j in order:\n",
    "        projection = proj[j].iloc[i]\n",
    "        #print(j, 'day', i)\n",
    "        conf.append(int(projection['Confirmed']))\n",
    "        dead.append(int(projection['Deaths']))\n",
    "        #print(fid)\n",
    "        fid+=1\n",
    "\n",
    "test['Confirmed'] = conf\n",
    "test['Deaths'] = dead"
   ]
  },
  {
   "cell_type": "code",
   "execution_count": 64,
   "metadata": {},
   "outputs": [
    {
     "name": "stdout",
     "output_type": "stream",
     "text": [
      "ForecastID  Confirmed  Deaths\n",
      "0              0     127415    2202\n",
      "1              1       5299      37\n",
      "2              2     202195    5059\n",
      "3              3      61771     811\n",
      "4              4     717025   13116\n",
      "...          ...        ...     ...\n",
      "1295        1295     144320    2966\n",
      "1296        1296      87723    2144\n",
      "1297        1297      13715     306\n",
      "1298        1298      92154    1271\n",
      "1299        1299       4631      44\n",
      "\n",
      "[1300 rows x 3 columns]\n"
     ]
    }
   ],
   "source": [
    "submission = test.drop(columns=['Province_State', 'Date'])\n",
    "print(submission)\n",
    "submission.to_csv('team25.csv', index = False, header = True)"
   ]
  },
  {
   "cell_type": "code",
   "execution_count": 65,
   "metadata": {},
   "outputs": [
    {
     "name": "stdout",
     "output_type": "stream",
     "text": [
      "0.029686984634018823\n"
     ]
    }
   ],
   "source": [
    "def give_mape(ground_truth_path, prediction_path):\n",
    "    ground_truth = pd.read_csv(ground_truth_path)\n",
    "    predictions = pd.read_csv(prediction_path)\n",
    "\n",
    "    gt_conf = ground_truth['Confirmed']\n",
    "    gt_dead = ground_truth['Deaths']\n",
    "\n",
    "    pred_conf = predictions['Confirmed']\n",
    "    pred_dead = predictions['Deaths']\n",
    "\n",
    "    total = 0\n",
    "    for i in range(1300):\n",
    "        conf_error = float(pred_conf[i] - gt_conf[i]) / float(gt_conf[i])\n",
    "        dead_error = float(pred_dead[i] - gt_dead[i]) / float(gt_dead[i])\n",
    "        total = total + abs(conf_error) + abs(dead_error)\n",
    "\n",
    "    total = total / 2600\n",
    "    return total\n",
    "\n",
    "print(give_mape('team25.csv', '../ValidationTester/ground_truth.csv'))"
   ]
  },
  {
   "cell_type": "code",
   "execution_count": null,
   "metadata": {},
   "outputs": [],
   "source": []
  },
  {
   "cell_type": "code",
   "execution_count": null,
   "metadata": {},
   "outputs": [],
   "source": []
  }
 ],
 "metadata": {
  "kernelspec": {
   "display_name": "Python 3",
   "name": "python3"
  },
  "language_info": {
   "codemirror_mode": {
    "name": "ipython",
    "version": 3
   },
   "file_extension": ".py",
   "mimetype": "text/x-python",
   "name": "python",
   "nbconvert_exporter": "python",
   "pygments_lexer": "ipython3",
   "version": "3.8.3"
  },
  "orig_nbformat": 2
 },
 "nbformat": 4,
 "nbformat_minor": 2
}